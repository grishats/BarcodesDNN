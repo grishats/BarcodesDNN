{
 "cells": [
  {
   "cell_type": "code",
   "execution_count": 1,
   "metadata": {},
   "outputs": [],
   "source": [
    "import torch\n",
    "import torch.nn as nn\n",
    "import torch.nn.functional as F\n",
    "from torchvision import datasets, transforms\n",
    "import torch.optim as optim\n",
    "\n",
    "import matplotlib.pyplot as plt\n",
    "import numpy as np\n",
    "\n",
    "from tqdm import tqdm_notebook as tqdm\n",
    "from sklearn.metrics import pairwise_distances\n",
    "from functools import reduce\n",
    "import operator\n",
    "\n",
    "import pandas as pd\n",
    "import sys\n",
    "import os\n",
    "\n",
    "import warnings\n",
    "warnings.filterwarnings(\"ignore\", category=DeprecationWarning) \n",
    "\n",
    "seed=26"
   ]
  },
  {
   "cell_type": "code",
   "execution_count": 4,
   "metadata": {},
   "outputs": [],
   "source": [
    "def make_loaders(seed, dataset, batch_size=32):\n",
    "    dataset_dict = {'MNIST': ['mnist_data/', datasets.MNIST],\n",
    "                    'FMNIST': ['fashion_mnist_data/', datasets.FashionMNIST],\n",
    "                    'CIFAR10': ['cifar10_data/', datasets.CIFAR10],\n",
    "                    'SVHN': ['svhn_data/', datasets.SVHN],\n",
    "                    'CIFAR100': ['cifar100_data/', datasets.CIFAR100]}\n",
    "\n",
    "    torch.manual_seed(seed)\n",
    "    path, function = dataset_dict[dataset]\n",
    "    \n",
    "    if dataset != 'SVHN':\n",
    "        train_loader = torch.utils.data.DataLoader(function(path, download=True, train=True,\n",
    "                                                   transform=transforms.Compose([transforms.ToTensor()])),\n",
    "                                                   batch_size=batch_size, shuffle=True)\n",
    "\n",
    "        test_loader = torch.utils.data.DataLoader(function(path, download=True, train=False,\n",
    "                                                   transform=transforms.Compose([transforms.ToTensor()])), \n",
    "                                                   batch_size=batch_size, shuffle=True)\n",
    "    else:\n",
    "        train_loader = torch.utils.data.DataLoader(function(path, download=True, split='train',\n",
    "                                                   transform=transforms.Compose([transforms.ToTensor()])),\n",
    "                                                   batch_size=batch_size, shuffle=True)\n",
    "\n",
    "        test_loader = torch.utils.data.DataLoader(function(path, download=True, split='test',\n",
    "                                                   transform=transforms.Compose([transforms.ToTensor()])), \n",
    "                                                   batch_size=batch_size, shuffle=True)\n",
    "    \n",
    "    return train_loader, test_loader\n",
    "\n",
    "\n",
    "\n",
    "def train(net, train_loader, tracker, optimizer, epoch, device):\n",
    "    net.train()\n",
    "    criterion = nn.CrossEntropyLoss()\n",
    "\n",
    "    train_loss = 0\n",
    "    for batch_id, (data, label) in tqdm(enumerate(train_loader), total=len(train_loader), leave=False, desc =f'Epoch: {epoch}'):\n",
    "        optimizer.zero_grad()\n",
    "        \n",
    "        pred = net(data.to(device))\n",
    "        \n",
    "        Preds = torch.cat(pred.split(10, dim = 1))\n",
    "        Labels = torch.cat([label for _ in range(net.N)])\n",
    "        \n",
    "        loss = criterion(Preds.to(device), Labels.to(device)) * net.N\n",
    "        loss.backward()\n",
    "        \n",
    "        tracker(net, epoch)\n",
    "        \n",
    "        optimizer.step()\n",
    "#         scheduler.step()\n",
    "        \n",
    "        train_loss += loss.item()\n",
    "    \n",
    "    epoch_loss = train_loss/len(train_loader)\n",
    "    tracker.loss_tracker[epoch] = epoch_loss\n",
    "\n",
    "    return epoch_loss\n",
    "\n",
    "def evaluate_single(net, train_loader, device):\n",
    "    criterion = nn.CrossEntropyLoss()\n",
    "\n",
    "    train_loss = 0\n",
    "    for batch_id, (data, label) in enumerate(train_loader):        \n",
    "        pred = net(data.to(device))\n",
    "        loss = criterion(pred, label.to(device))\n",
    "        train_loss += loss.item()\n",
    "\n",
    "    return train_loss/len(train_loader)\n",
    "\n",
    "\n",
    "def evaluate(net, train_loader, device):\n",
    "    criterion = nn.CrossEntropyLoss()\n",
    "    net.eval()\n",
    "    \n",
    "    \n",
    "    train_loss = 0\n",
    "    acc = []\n",
    "\n",
    "    for batch_id, (data, label) in enumerate(train_loader):        \n",
    "        pred = net(data.to(device))\n",
    "        \n",
    "        Preds = torch.cat(pred.split(10, dim = 1))\n",
    "        Labels = torch.cat([label for _ in range(net.N)])\n",
    "\n",
    "        acc.append(((Preds.cpu().argmax(dim=1).reshape(-1) == Labels.cpu().reshape(-1))).float().mean().item())\n",
    "        \n",
    "        loss = criterion(Preds.to(device), Labels.to(device)) * net.N\n",
    "        \n",
    "        train_loss += loss.item()\n",
    "    \n",
    "    net.train()\n",
    "    \n",
    "    return train_loss/len(train_loader), np.mean(acc)"
   ]
  },
  {
   "cell_type": "markdown",
   "metadata": {},
   "source": [
    "# Split Networks"
   ]
  },
  {
   "cell_type": "code",
   "execution_count": 7,
   "metadata": {},
   "outputs": [],
   "source": [
    "def factorize_net(net):\n",
    "    n_models = net.N\n",
    "    n_layers = net.n_layers\n",
    "    networks = [[] for _ in range(n_models)]\n",
    "    \n",
    "    for index, (name, par) in enumerate(net.named_parameters()):\n",
    "        \n",
    "        params = par.cpu().detach().numpy().reshape(n_models, -1)\n",
    "        \n",
    "        for index in range(n_models):\n",
    "            networks[index].append(params[index].reshape(-1, 1))\n",
    "            \n",
    "    networks = [np.vstack(net) for net in networks]\n",
    "        \n",
    "    return np.hstack(networks)"
   ]
  },
  {
   "cell_type": "code",
   "execution_count": 6,
   "metadata": {},
   "outputs": [],
   "source": [
    "def train_scheduler(net, train_loader, optimizer, scheduler, epoch, device, dataset='CIFAR100'):\n",
    "    net.train()\n",
    "        \n",
    "    train_loss = 0\n",
    "    for batch_id, (data, label) in tqdm(enumerate(train_loader), total=len(train_loader), leave=False, desc=f'Epoch: {epoch}'):\n",
    "        optimizer.zero_grad()\n",
    "        \n",
    "        pred = net(data.to(device))\n",
    "        \n",
    "        if dataset == 'CIFAR100':\n",
    "            n_classes=100\n",
    "        else:\n",
    "            n_classes=10\n",
    "        \n",
    "        Preds = torch.cat(pred.split(n_classes, dim = 1))\n",
    "        Labels = torch.cat([label for _ in range(net.N)])\n",
    "        \n",
    "        loss = criterion(Preds.to(device), Labels.to(device)) * net.N\n",
    "        loss.backward()\n",
    "        \n",
    "        optimizer.step()\n",
    "        optimizer.param_groups[0]['lr'] = scheduler.triangle_scheduler(batch_id, epoch)\n",
    "        \n",
    "        train_loss += loss.item()\n",
    "    \n",
    "    epoch_loss = train_loss/len(train_loader)\n",
    "\n",
    "    return epoch_loss\n",
    "\n",
    "\n",
    "def evaluate(net, train_loader, device, dataset='CIFAR100'):\n",
    "    criterion = nn.CrossEntropyLoss()\n",
    "    net.eval()\n",
    "    \n",
    "    \n",
    "    train_loss = 0\n",
    "    acc = []\n",
    "\n",
    "    for batch_id, (data, label) in enumerate(train_loader):        \n",
    "        pred = net(data.to(device))\n",
    "        \n",
    "        if dataset == 'CIFAR100':\n",
    "            n_classes=100\n",
    "        else:\n",
    "            n_classes=10\n",
    "        \n",
    "        Preds = torch.cat(pred.split(n_classes, dim = 1))\n",
    "        Labels = torch.cat([label for _ in range(net.N)])\n",
    "\n",
    "        acc.append(((Preds.cpu().argmax(dim=1).reshape(-1) == Labels.cpu().reshape(-1))).float().mean().item())\n",
    "        \n",
    "        loss = criterion(Preds.to(device), Labels.to(device)) * net.N\n",
    "        \n",
    "        train_loss += loss.item()\n",
    "    \n",
    "    net.train()\n",
    "    \n",
    "    return train_loss/len(train_loader), np.mean(acc)\n",
    "\n",
    "\n"
   ]
  },
  {
   "cell_type": "code",
   "execution_count": null,
   "metadata": {},
   "outputs": [],
   "source": [
    "os.makedirs()"
   ]
  },
  {
   "cell_type": "code",
   "execution_count": 1,
   "metadata": {},
   "outputs": [],
   "source": [
    "import os"
   ]
  },
  {
   "cell_type": "code",
   "execution_count": null,
   "metadata": {
    "scrolled": true
   },
   "outputs": [
    {
     "data": {
      "application/vnd.jupyter.widget-view+json": {
       "model_id": "",
       "version_major": 2,
       "version_minor": 0
      },
      "text/plain": [
       "HBox(children=(FloatProgress(value=0.0, description='Epoch: 0', max=287.0, style=ProgressStyle(description_wid…"
      ]
     },
     "metadata": {},
     "output_type": "display_data"
    },
    {
     "name": "stdout",
     "output_type": "stream",
     "text": [
      "Epoch 1 Train loss 2.331176830085728 Test loss 2.2580858235265695 Test acc 0.17669209910958422\n"
     ]
    },
    {
     "data": {
      "application/vnd.jupyter.widget-view+json": {
       "model_id": "",
       "version_major": 2,
       "version_minor": 0
      },
      "text/plain": [
       "HBox(children=(FloatProgress(value=0.0, description='Epoch: 1', max=287.0, style=ProgressStyle(description_wid…"
      ]
     },
     "metadata": {},
     "output_type": "display_data"
    },
    {
     "data": {
      "application/vnd.jupyter.widget-view+json": {
       "model_id": "",
       "version_major": 2,
       "version_minor": 0
      },
      "text/plain": [
       "HBox(children=(FloatProgress(value=0.0, description='Epoch: 2', max=287.0, style=ProgressStyle(description_wid…"
      ]
     },
     "metadata": {},
     "output_type": "display_data"
    },
    {
     "data": {
      "application/vnd.jupyter.widget-view+json": {
       "model_id": "",
       "version_major": 2,
       "version_minor": 0
      },
      "text/plain": [
       "HBox(children=(FloatProgress(value=0.0, description='Epoch: 3', max=287.0, style=ProgressStyle(description_wid…"
      ]
     },
     "metadata": {},
     "output_type": "display_data"
    },
    {
     "data": {
      "application/vnd.jupyter.widget-view+json": {
       "model_id": "",
       "version_major": 2,
       "version_minor": 0
      },
      "text/plain": [
       "HBox(children=(FloatProgress(value=0.0, description='Epoch: 4', max=287.0, style=ProgressStyle(description_wid…"
      ]
     },
     "metadata": {},
     "output_type": "display_data"
    },
    {
     "data": {
      "application/vnd.jupyter.widget-view+json": {
       "model_id": "",
       "version_major": 2,
       "version_minor": 0
      },
      "text/plain": [
       "HBox(children=(FloatProgress(value=0.0, description='Epoch: 5', max=287.0, style=ProgressStyle(description_wid…"
      ]
     },
     "metadata": {},
     "output_type": "display_data"
    },
    {
     "name": "stdout",
     "output_type": "stream",
     "text": [
      "Epoch 6 Train loss 1.8938416379669403 Test loss 1.8274339893284965 Test acc 0.425085819235035\n"
     ]
    },
    {
     "data": {
      "application/vnd.jupyter.widget-view+json": {
       "model_id": "",
       "version_major": 2,
       "version_minor": 0
      },
      "text/plain": [
       "HBox(children=(FloatProgress(value=0.0, description='Epoch: 6', max=287.0, style=ProgressStyle(description_wid…"
      ]
     },
     "metadata": {},
     "output_type": "display_data"
    },
    {
     "data": {
      "application/vnd.jupyter.widget-view+json": {
       "model_id": "",
       "version_major": 2,
       "version_minor": 0
      },
      "text/plain": [
       "HBox(children=(FloatProgress(value=0.0, description='Epoch: 7', max=287.0, style=ProgressStyle(description_wid…"
      ]
     },
     "metadata": {},
     "output_type": "display_data"
    },
    {
     "data": {
      "application/vnd.jupyter.widget-view+json": {
       "model_id": "",
       "version_major": 2,
       "version_minor": 0
      },
      "text/plain": [
       "HBox(children=(FloatProgress(value=0.0, description='Epoch: 8', max=287.0, style=ProgressStyle(description_wid…"
      ]
     },
     "metadata": {},
     "output_type": "display_data"
    },
    {
     "data": {
      "application/vnd.jupyter.widget-view+json": {
       "model_id": "",
       "version_major": 2,
       "version_minor": 0
      },
      "text/plain": [
       "HBox(children=(FloatProgress(value=0.0, description='Epoch: 9', max=287.0, style=ProgressStyle(description_wid…"
      ]
     },
     "metadata": {},
     "output_type": "display_data"
    },
    {
     "data": {
      "application/vnd.jupyter.widget-view+json": {
       "model_id": "",
       "version_major": 2,
       "version_minor": 0
      },
      "text/plain": [
       "HBox(children=(FloatProgress(value=0.0, description='Epoch: 10', max=287.0, style=ProgressStyle(description_wi…"
      ]
     },
     "metadata": {},
     "output_type": "display_data"
    },
    {
     "name": "stdout",
     "output_type": "stream",
     "text": [
      "Epoch 11 Train loss 1.4959249812136128 Test loss 1.4429262502520692 Test acc 0.5589057797310399\n"
     ]
    },
    {
     "data": {
      "application/vnd.jupyter.widget-view+json": {
       "model_id": "",
       "version_major": 2,
       "version_minor": 0
      },
      "text/plain": [
       "HBox(children=(FloatProgress(value=0.0, description='Epoch: 11', max=287.0, style=ProgressStyle(description_wi…"
      ]
     },
     "metadata": {},
     "output_type": "display_data"
    },
    {
     "data": {
      "application/vnd.jupyter.widget-view+json": {
       "model_id": "",
       "version_major": 2,
       "version_minor": 0
      },
      "text/plain": [
       "HBox(children=(FloatProgress(value=0.0, description='Epoch: 12', max=287.0, style=ProgressStyle(description_wi…"
      ]
     },
     "metadata": {},
     "output_type": "display_data"
    },
    {
     "data": {
      "application/vnd.jupyter.widget-view+json": {
       "model_id": "",
       "version_major": 2,
       "version_minor": 0
      },
      "text/plain": [
       "HBox(children=(FloatProgress(value=0.0, description='Epoch: 13', max=287.0, style=ProgressStyle(description_wi…"
      ]
     },
     "metadata": {},
     "output_type": "display_data"
    },
    {
     "data": {
      "application/vnd.jupyter.widget-view+json": {
       "model_id": "",
       "version_major": 2,
       "version_minor": 0
      },
      "text/plain": [
       "HBox(children=(FloatProgress(value=0.0, description='Epoch: 14', max=287.0, style=ProgressStyle(description_wi…"
      ]
     },
     "metadata": {},
     "output_type": "display_data"
    },
    {
     "data": {
      "application/vnd.jupyter.widget-view+json": {
       "model_id": "",
       "version_major": 2,
       "version_minor": 0
      },
      "text/plain": [
       "HBox(children=(FloatProgress(value=0.0, description='Epoch: 15', max=287.0, style=ProgressStyle(description_wi…"
      ]
     },
     "metadata": {},
     "output_type": "display_data"
    },
    {
     "name": "stdout",
     "output_type": "stream",
     "text": [
      "Epoch 16 Train loss 1.192174022621394 Test loss 1.1522153896443985 Test acc 0.6621098103476506\n"
     ]
    },
    {
     "data": {
      "application/vnd.jupyter.widget-view+json": {
       "model_id": "",
       "version_major": 2,
       "version_minor": 0
      },
      "text/plain": [
       "HBox(children=(FloatProgress(value=0.0, description='Epoch: 16', max=287.0, style=ProgressStyle(description_wi…"
      ]
     },
     "metadata": {},
     "output_type": "display_data"
    },
    {
     "data": {
      "application/vnd.jupyter.widget-view+json": {
       "model_id": "",
       "version_major": 2,
       "version_minor": 0
      },
      "text/plain": [
       "HBox(children=(FloatProgress(value=0.0, description='Epoch: 17', max=287.0, style=ProgressStyle(description_wi…"
      ]
     },
     "metadata": {},
     "output_type": "display_data"
    },
    {
     "data": {
      "application/vnd.jupyter.widget-view+json": {
       "model_id": "",
       "version_major": 2,
       "version_minor": 0
      },
      "text/plain": [
       "HBox(children=(FloatProgress(value=0.0, description='Epoch: 18', max=287.0, style=ProgressStyle(description_wi…"
      ]
     },
     "metadata": {},
     "output_type": "display_data"
    },
    {
     "data": {
      "application/vnd.jupyter.widget-view+json": {
       "model_id": "",
       "version_major": 2,
       "version_minor": 0
      },
      "text/plain": [
       "HBox(children=(FloatProgress(value=0.0, description='Epoch: 19', max=287.0, style=ProgressStyle(description_wi…"
      ]
     },
     "metadata": {},
     "output_type": "display_data"
    },
    {
     "data": {
      "application/vnd.jupyter.widget-view+json": {
       "model_id": "",
       "version_major": 2,
       "version_minor": 0
      },
      "text/plain": [
       "HBox(children=(FloatProgress(value=0.0, description='Epoch: 20', max=287.0, style=ProgressStyle(description_wi…"
      ]
     },
     "metadata": {},
     "output_type": "display_data"
    },
    {
     "name": "stdout",
     "output_type": "stream",
     "text": [
      "Epoch 21 Train loss 0.9790710908610646 Test loss 0.9786285600241493 Test acc 0.7164304466808543\n"
     ]
    },
    {
     "data": {
      "application/vnd.jupyter.widget-view+json": {
       "model_id": "",
       "version_major": 2,
       "version_minor": 0
      },
      "text/plain": [
       "HBox(children=(FloatProgress(value=0.0, description='Epoch: 21', max=287.0, style=ProgressStyle(description_wi…"
      ]
     },
     "metadata": {},
     "output_type": "display_data"
    },
    {
     "data": {
      "application/vnd.jupyter.widget-view+json": {
       "model_id": "",
       "version_major": 2,
       "version_minor": 0
      },
      "text/plain": [
       "HBox(children=(FloatProgress(value=0.0, description='Epoch: 22', max=287.0, style=ProgressStyle(description_wi…"
      ]
     },
     "metadata": {},
     "output_type": "display_data"
    },
    {
     "data": {
      "application/vnd.jupyter.widget-view+json": {
       "model_id": "",
       "version_major": 2,
       "version_minor": 0
      },
      "text/plain": [
       "HBox(children=(FloatProgress(value=0.0, description='Epoch: 23', max=287.0, style=ProgressStyle(description_wi…"
      ]
     },
     "metadata": {},
     "output_type": "display_data"
    },
    {
     "data": {
      "application/vnd.jupyter.widget-view+json": {
       "model_id": "",
       "version_major": 2,
       "version_minor": 0
      },
      "text/plain": [
       "HBox(children=(FloatProgress(value=0.0, description='Epoch: 24', max=287.0, style=ProgressStyle(description_wi…"
      ]
     },
     "metadata": {},
     "output_type": "display_data"
    },
    {
     "data": {
      "application/vnd.jupyter.widget-view+json": {
       "model_id": "",
       "version_major": 2,
       "version_minor": 0
      },
      "text/plain": [
       "HBox(children=(FloatProgress(value=0.0, description='Epoch: 25', max=287.0, style=ProgressStyle(description_wi…"
      ]
     },
     "metadata": {},
     "output_type": "display_data"
    },
    {
     "name": "stdout",
     "output_type": "stream",
     "text": [
      "Epoch 26 Train loss 0.8323155298880999 Test loss 0.837547280624801 Test acc 0.7626326452283299\n"
     ]
    },
    {
     "data": {
      "application/vnd.jupyter.widget-view+json": {
       "model_id": "",
       "version_major": 2,
       "version_minor": 0
      },
      "text/plain": [
       "HBox(children=(FloatProgress(value=0.0, description='Epoch: 26', max=287.0, style=ProgressStyle(description_wi…"
      ]
     },
     "metadata": {},
     "output_type": "display_data"
    },
    {
     "data": {
      "application/vnd.jupyter.widget-view+json": {
       "model_id": "",
       "version_major": 2,
       "version_minor": 0
      },
      "text/plain": [
       "HBox(children=(FloatProgress(value=0.0, description='Epoch: 27', max=287.0, style=ProgressStyle(description_wi…"
      ]
     },
     "metadata": {},
     "output_type": "display_data"
    },
    {
     "data": {
      "application/vnd.jupyter.widget-view+json": {
       "model_id": "",
       "version_major": 2,
       "version_minor": 0
      },
      "text/plain": [
       "HBox(children=(FloatProgress(value=0.0, description='Epoch: 28', max=287.0, style=ProgressStyle(description_wi…"
      ]
     },
     "metadata": {},
     "output_type": "display_data"
    },
    {
     "data": {
      "application/vnd.jupyter.widget-view+json": {
       "model_id": "",
       "version_major": 2,
       "version_minor": 0
      },
      "text/plain": [
       "HBox(children=(FloatProgress(value=0.0, description='Epoch: 29', max=287.0, style=ProgressStyle(description_wi…"
      ]
     },
     "metadata": {},
     "output_type": "display_data"
    },
    {
     "data": {
      "application/vnd.jupyter.widget-view+json": {
       "model_id": "",
       "version_major": 2,
       "version_minor": 0
      },
      "text/plain": [
       "HBox(children=(FloatProgress(value=0.0, description='Epoch: 30', max=287.0, style=ProgressStyle(description_wi…"
      ]
     },
     "metadata": {},
     "output_type": "display_data"
    },
    {
     "name": "stdout",
     "output_type": "stream",
     "text": [
      "Epoch 31 Train loss 0.7316996197667271 Test loss 0.7493292011466681 Test acc 0.7840600107230392\n"
     ]
    },
    {
     "data": {
      "application/vnd.jupyter.widget-view+json": {
       "model_id": "",
       "version_major": 2,
       "version_minor": 0
      },
      "text/plain": [
       "HBox(children=(FloatProgress(value=0.0, description='Epoch: 31', max=287.0, style=ProgressStyle(description_wi…"
      ]
     },
     "metadata": {},
     "output_type": "display_data"
    },
    {
     "data": {
      "application/vnd.jupyter.widget-view+json": {
       "model_id": "",
       "version_major": 2,
       "version_minor": 0
      },
      "text/plain": [
       "HBox(children=(FloatProgress(value=0.0, description='Epoch: 32', max=287.0, style=ProgressStyle(description_wi…"
      ]
     },
     "metadata": {},
     "output_type": "display_data"
    },
    {
     "data": {
      "application/vnd.jupyter.widget-view+json": {
       "model_id": "",
       "version_major": 2,
       "version_minor": 0
      },
      "text/plain": [
       "HBox(children=(FloatProgress(value=0.0, description='Epoch: 33', max=287.0, style=ProgressStyle(description_wi…"
      ]
     },
     "metadata": {},
     "output_type": "display_data"
    },
    {
     "data": {
      "application/vnd.jupyter.widget-view+json": {
       "model_id": "",
       "version_major": 2,
       "version_minor": 0
      },
      "text/plain": [
       "HBox(children=(FloatProgress(value=0.0, description='Epoch: 34', max=287.0, style=ProgressStyle(description_wi…"
      ]
     },
     "metadata": {},
     "output_type": "display_data"
    },
    {
     "data": {
      "application/vnd.jupyter.widget-view+json": {
       "model_id": "",
       "version_major": 2,
       "version_minor": 0
      },
      "text/plain": [
       "HBox(children=(FloatProgress(value=0.0, description='Epoch: 35', max=287.0, style=ProgressStyle(description_wi…"
      ]
     },
     "metadata": {},
     "output_type": "display_data"
    },
    {
     "name": "stdout",
     "output_type": "stream",
     "text": [
      "Epoch 36 Train loss 0.6606868522092441 Test loss 0.6872992930459041 Test acc 0.8031351835119958\n"
     ]
    },
    {
     "data": {
      "application/vnd.jupyter.widget-view+json": {
       "model_id": "",
       "version_major": 2,
       "version_minor": 0
      },
      "text/plain": [
       "HBox(children=(FloatProgress(value=0.0, description='Epoch: 36', max=287.0, style=ProgressStyle(description_wi…"
      ]
     },
     "metadata": {},
     "output_type": "display_data"
    },
    {
     "data": {
      "application/vnd.jupyter.widget-view+json": {
       "model_id": "",
       "version_major": 2,
       "version_minor": 0
      },
      "text/plain": [
       "HBox(children=(FloatProgress(value=0.0, description='Epoch: 37', max=287.0, style=ProgressStyle(description_wi…"
      ]
     },
     "metadata": {},
     "output_type": "display_data"
    },
    {
     "data": {
      "application/vnd.jupyter.widget-view+json": {
       "model_id": "",
       "version_major": 2,
       "version_minor": 0
      },
      "text/plain": [
       "HBox(children=(FloatProgress(value=0.0, description='Epoch: 38', max=287.0, style=ProgressStyle(description_wi…"
      ]
     },
     "metadata": {},
     "output_type": "display_data"
    },
    {
     "data": {
      "application/vnd.jupyter.widget-view+json": {
       "model_id": "",
       "version_major": 2,
       "version_minor": 0
      },
      "text/plain": [
       "HBox(children=(FloatProgress(value=0.0, description='Epoch: 39', max=287.0, style=ProgressStyle(description_wi…"
      ]
     },
     "metadata": {},
     "output_type": "display_data"
    },
    {
     "data": {
      "application/vnd.jupyter.widget-view+json": {
       "model_id": "",
       "version_major": 2,
       "version_minor": 0
      },
      "text/plain": [
       "HBox(children=(FloatProgress(value=0.0, description='Epoch: 40', max=287.0, style=ProgressStyle(description_wi…"
      ]
     },
     "metadata": {},
     "output_type": "display_data"
    },
    {
     "name": "stdout",
     "output_type": "stream",
     "text": [
      "Epoch 41 Train loss 0.6079459907908888 Test loss 0.6322909225435818 Test acc 0.8158348477354237\n"
     ]
    },
    {
     "data": {
      "application/vnd.jupyter.widget-view+json": {
       "model_id": "",
       "version_major": 2,
       "version_minor": 0
      },
      "text/plain": [
       "HBox(children=(FloatProgress(value=0.0, description='Epoch: 41', max=287.0, style=ProgressStyle(description_wi…"
      ]
     },
     "metadata": {},
     "output_type": "display_data"
    },
    {
     "data": {
      "application/vnd.jupyter.widget-view+json": {
       "model_id": "",
       "version_major": 2,
       "version_minor": 0
      },
      "text/plain": [
       "HBox(children=(FloatProgress(value=0.0, description='Epoch: 42', max=287.0, style=ProgressStyle(description_wi…"
      ]
     },
     "metadata": {},
     "output_type": "display_data"
    },
    {
     "data": {
      "application/vnd.jupyter.widget-view+json": {
       "model_id": "06e0cbd708784e27b344b5cb7628866c",
       "version_major": 2,
       "version_minor": 0
      },
      "text/plain": [
       "HBox(children=(FloatProgress(value=0.0, description='Epoch: 43', max=287.0, style=ProgressStyle(description_wi…"
      ]
     },
     "metadata": {},
     "output_type": "display_data"
    }
   ],
   "source": [
    "os.mkdir('Case1/')\n",
    "\n",
    "N = 8\n",
    "dataset = 'SVHN'\n",
    "device = 'cuda:2'\n",
    "batch_size = 256\n",
    "\n",
    "train_loader, test_loader = make_loaders(26, batch_size=batch_size, dataset=dataset)\n",
    "\n",
    "batches_in_epoch = len(train_loader)\n",
    "\n",
    "epochs = 2001\n",
    "\n",
    "\n",
    "for lr in [1e-4]:\n",
    "    \n",
    "    knots= [0, 1, 2]\n",
    "    vals= [lr, lr, lr]\n",
    "                   \n",
    "    \n",
    "    best_loss_train = 100\n",
    "    \n",
    "    \n",
    "    net = MultipleShallowNets(\n",
    "                              [ResNet(dataset, mode='resnet9', seed=26+index)\n",
    "                               for index in range(N)],\n",
    "                               kernel_size=3).to(device)\n",
    "\n",
    "    logs = 'Case1/'\n",
    "    \n",
    "    criterion = nn.CrossEntropyLoss().to(device)\n",
    "    optimizer = optim.SGD(net.parameters(), lr=0, momentum=0.9, weight_decay=0)\n",
    "    \n",
    "    \n",
    "    tlr = TriangleLR(optimizer, batches_in_epoch, knots, vals)\n",
    "\n",
    "    df = []\n",
    "\n",
    "    for epoch in range(epochs):\n",
    "\n",
    "        train_loss = train_scheduler(net, train_loader, optimizer, tlr, epoch, device, dataset=dataset)\n",
    "\n",
    "        if train_loss < best_loss_train:\n",
    "            best_loss_train =train_loss\n",
    "\n",
    "            path = logs + f'ResNet9_{lr}_reg0.torch'\n",
    "            torch.save(net.state_dict(), path)\n",
    "\n",
    "        if epoch % 5 == 0:\n",
    "            test_loss, test_acc = evaluate(net, test_loader, device, dataset=dataset)\n",
    "\n",
    "            print('Epoch', epoch + 1, 'Train loss', train_loss/N, 'Test loss', test_loss/N, 'Test acc', test_acc)\n",
    "\n",
    "            df.append([epoch, train_loss/N, test_loss/N, test_acc])\n",
    "\n",
    "            df_ = pd.DataFrame(df)\n",
    "            df_.columns = ['epoch', 'train_loss', 'test_loss', 'test_acc']\n",
    "\n",
    "            df_.to_csv(f'{logs}ResNet9_{lr}_reg0.csv', index=False)\n",
    "            \n",
    "            if epoch in [200, 300, 400, 500, 600, 700, 800, 900, 1000, 1100, 1200]:\n",
    "                path = logs + f'ResNet9_{lr}_reg0.torch'\n",
    "                torch.save(net.state_dict(), path)\n",
    "\n",
    "    print('!!!!!!!!!!!!NET CONVERGED', 'Seed:', seed, 'Best loss:', best_loss_train/N)\n",
    "    \n",
    "device = 'cuda:1'\n",
    "N = 8\n",
    "folder = 'Case1'\n",
    "\n",
    "models_path = f'{folder}/Models/'\n",
    "if not os.path.isdir(models_path):\n",
    "    os.mkdir(models_path)\n",
    "\n",
    "net = MultipleShallowNets([ResNet('SVHN', mode='resnet9', seed=26+index) for index in range(N)], kernel_size=3).to(device)\n",
    "net.load_state_dict(torch.load(f'{folder}/ResNet9_0.0001_reg0.torch', map_location=device))\n",
    "\n",
    "W = factorize_net(net)\n",
    "for i in range(N):\n",
    "    model = ResNet('SVHN', mode='resnet9', seed=26)\n",
    "    model.from_vector(W[:, i])\n",
    "    torch.save(model.state_dict(), models_path + f'model{i}.torch')"
   ]
  },
  {
   "cell_type": "markdown",
   "metadata": {},
   "source": [
    "# Factorize"
   ]
  },
  {
   "cell_type": "code",
   "execution_count": 20,
   "metadata": {},
   "outputs": [],
   "source": []
  }
 ],
 "metadata": {
  "kernelspec": {
   "display_name": "Python 3",
   "language": "python",
   "name": "python3"
  },
  "language_info": {
   "codemirror_mode": {
    "name": "ipython",
    "version": 3
   },
   "file_extension": ".py",
   "mimetype": "text/x-python",
   "name": "python",
   "nbconvert_exporter": "python",
   "pygments_lexer": "ipython3",
   "version": "3.8.3"
  }
 },
 "nbformat": 4,
 "nbformat_minor": 2
}
